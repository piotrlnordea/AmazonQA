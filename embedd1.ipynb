{
  "nbformat": 4,
  "nbformat_minor": 0,
  "metadata": {
    "colab": {
      "provenance": [],
      "gpuType": "T4",
      "authorship_tag": "ABX9TyPwTrq6HJBtwXUkP3HVLi4e",
      "include_colab_link": true
    },
    "kernelspec": {
      "name": "python3",
      "display_name": "Python 3"
    },
    "language_info": {
      "name": "python"
    },
    "accelerator": "GPU"
  },
  "cells": [
    {
      "cell_type": "markdown",
      "metadata": {
        "id": "view-in-github",
        "colab_type": "text"
      },
      "source": [
        "<a href=\"https://colab.research.google.com/github/piotrlnordea/AmazonQA/blob/main/embedd1.ipynb\" target=\"_parent\"><img src=\"https://colab.research.google.com/assets/colab-badge.svg\" alt=\"Open In Colab\"/></a>"
      ]
    },
    {
      "cell_type": "code",
      "execution_count": 37,
      "metadata": {
        "colab": {
          "base_uri": "https://localhost:8080/"
        },
        "id": "0bVtKa7EvziB",
        "outputId": "c62f0c80-f926-473f-bb42-678bc8be9a69"
      },
      "outputs": [
        {
          "output_type": "stream",
          "name": "stdout",
          "text": [
            "Looking in indexes: https://pypi.org/simple, https://us-python.pkg.dev/colab-wheels/public/simple/\n",
            "Requirement already satisfied: sentence-transformers in /usr/local/lib/python3.10/dist-packages (2.2.2)\n",
            "Requirement already satisfied: transformers in /usr/local/lib/python3.10/dist-packages (4.30.2)\n",
            "Requirement already satisfied: tqdm in /usr/local/lib/python3.10/dist-packages (from sentence-transformers) (4.65.0)\n",
            "Requirement already satisfied: torch>=1.6.0 in /usr/local/lib/python3.10/dist-packages (from sentence-transformers) (2.0.1+cu118)\n",
            "Requirement already satisfied: torchvision in /usr/local/lib/python3.10/dist-packages (from sentence-transformers) (0.15.2+cu118)\n",
            "Requirement already satisfied: numpy in /usr/local/lib/python3.10/dist-packages (from sentence-transformers) (1.22.4)\n",
            "Requirement already satisfied: scikit-learn in /usr/local/lib/python3.10/dist-packages (from sentence-transformers) (1.2.2)\n",
            "Requirement already satisfied: scipy in /usr/local/lib/python3.10/dist-packages (from sentence-transformers) (1.10.1)\n",
            "Requirement already satisfied: nltk in /usr/local/lib/python3.10/dist-packages (from sentence-transformers) (3.8.1)\n",
            "Requirement already satisfied: sentencepiece in /usr/local/lib/python3.10/dist-packages (from sentence-transformers) (0.1.99)\n",
            "Requirement already satisfied: huggingface-hub>=0.4.0 in /usr/local/lib/python3.10/dist-packages (from sentence-transformers) (0.15.1)\n",
            "Requirement already satisfied: filelock in /usr/local/lib/python3.10/dist-packages (from transformers) (3.12.0)\n",
            "Requirement already satisfied: packaging>=20.0 in /usr/local/lib/python3.10/dist-packages (from transformers) (23.1)\n",
            "Requirement already satisfied: pyyaml>=5.1 in /usr/local/lib/python3.10/dist-packages (from transformers) (6.0)\n",
            "Requirement already satisfied: regex!=2019.12.17 in /usr/local/lib/python3.10/dist-packages (from transformers) (2022.10.31)\n",
            "Requirement already satisfied: requests in /usr/local/lib/python3.10/dist-packages (from transformers) (2.27.1)\n",
            "Requirement already satisfied: tokenizers!=0.11.3,<0.14,>=0.11.1 in /usr/local/lib/python3.10/dist-packages (from transformers) (0.13.3)\n",
            "Requirement already satisfied: safetensors>=0.3.1 in /usr/local/lib/python3.10/dist-packages (from transformers) (0.3.1)\n",
            "Requirement already satisfied: fsspec in /usr/local/lib/python3.10/dist-packages (from huggingface-hub>=0.4.0->sentence-transformers) (2023.4.0)\n",
            "Requirement already satisfied: typing-extensions>=3.7.4.3 in /usr/local/lib/python3.10/dist-packages (from huggingface-hub>=0.4.0->sentence-transformers) (4.5.0)\n",
            "Requirement already satisfied: sympy in /usr/local/lib/python3.10/dist-packages (from torch>=1.6.0->sentence-transformers) (1.11.1)\n",
            "Requirement already satisfied: networkx in /usr/local/lib/python3.10/dist-packages (from torch>=1.6.0->sentence-transformers) (3.1)\n",
            "Requirement already satisfied: jinja2 in /usr/local/lib/python3.10/dist-packages (from torch>=1.6.0->sentence-transformers) (3.1.2)\n",
            "Requirement already satisfied: triton==2.0.0 in /usr/local/lib/python3.10/dist-packages (from torch>=1.6.0->sentence-transformers) (2.0.0)\n",
            "Requirement already satisfied: cmake in /usr/local/lib/python3.10/dist-packages (from triton==2.0.0->torch>=1.6.0->sentence-transformers) (3.25.2)\n",
            "Requirement already satisfied: lit in /usr/local/lib/python3.10/dist-packages (from triton==2.0.0->torch>=1.6.0->sentence-transformers) (16.0.5)\n",
            "Requirement already satisfied: click in /usr/local/lib/python3.10/dist-packages (from nltk->sentence-transformers) (8.1.3)\n",
            "Requirement already satisfied: joblib in /usr/local/lib/python3.10/dist-packages (from nltk->sentence-transformers) (1.2.0)\n",
            "Requirement already satisfied: urllib3<1.27,>=1.21.1 in /usr/local/lib/python3.10/dist-packages (from requests->transformers) (1.26.15)\n",
            "Requirement already satisfied: certifi>=2017.4.17 in /usr/local/lib/python3.10/dist-packages (from requests->transformers) (2022.12.7)\n",
            "Requirement already satisfied: charset-normalizer~=2.0.0 in /usr/local/lib/python3.10/dist-packages (from requests->transformers) (2.0.12)\n",
            "Requirement already satisfied: idna<4,>=2.5 in /usr/local/lib/python3.10/dist-packages (from requests->transformers) (3.4)\n",
            "Requirement already satisfied: threadpoolctl>=2.0.0 in /usr/local/lib/python3.10/dist-packages (from scikit-learn->sentence-transformers) (3.1.0)\n",
            "Requirement already satisfied: pillow!=8.3.*,>=5.3.0 in /usr/local/lib/python3.10/dist-packages (from torchvision->sentence-transformers) (8.4.0)\n",
            "Requirement already satisfied: MarkupSafe>=2.0 in /usr/local/lib/python3.10/dist-packages (from jinja2->torch>=1.6.0->sentence-transformers) (2.1.2)\n",
            "Requirement already satisfied: mpmath>=0.19 in /usr/local/lib/python3.10/dist-packages (from sympy->torch>=1.6.0->sentence-transformers) (1.3.0)\n"
          ]
        }
      ],
      "source": [
        "!pip install sentence-transformers transformers\n",
        "\n"
      ]
    },
    {
      "cell_type": "code",
      "source": [],
      "metadata": {
        "id": "C1wTjzzCwCid"
      },
      "execution_count": 37,
      "outputs": []
    },
    {
      "cell_type": "code",
      "source": [
        "\n",
        "\n",
        "import pandas as pd\n",
        "\n",
        "# Step 1: Read the CSV file\n",
        "data = pd.read_csv('bitex.csv')\n",
        "\n",
        "# Step 2: Display the first few rows of the data\n",
        "print(\"First few rows of the data:\")\n",
        "print(data.head())\n",
        "\n",
        "# Step 3: Get information about the data\n",
        "print(\"\\nData information:\")\n",
        "print(data.info())\n",
        "\n",
        "# Step 4: Summary statistics\n",
        "print(\"\\nSummary statistics:\")\n",
        "print(data.describe())\n",
        "\n",
        "# Step 5: Unique values in categorical columns\n",
        "categorical_cols = ['flags', 'utterance', 'category', 'intent']\n",
        "for col in categorical_cols:\n",
        "    unique_values = data[col].unique()\n",
        "    print(f\"\\nUnique values in '{col}':\")\n",
        "    print(unique_values)\n",
        "    if col=='category':\n",
        "      uv_cat=unique_values\n",
        "    if col=='intent':\n",
        "      uv_int=unique_values\n",
        "\n",
        "# Step 6: Value counts of categorical columns\n",
        "for col in categorical_cols:\n",
        "    value_counts = data[col].value_counts()\n",
        "    print(f\"\\nValue counts for '{col}':\")\n",
        "    print(value_counts)\n",
        "\n",
        "# Step 7: Check for missing values\n",
        "missing_values = data.isnull().sum()\n",
        "print(\"\\nMissing values:\")\n",
        "print(missing_values)\n",
        "print(uv_cat)\n",
        "print(uv_int)"
      ],
      "metadata": {
        "colab": {
          "base_uri": "https://localhost:8080/"
        },
        "id": "NMM_Dsxro0V0",
        "outputId": "fd20be7b-ae52-4764-d9c3-1fe73bf3ffa8"
      },
      "execution_count": 38,
      "outputs": [
        {
          "output_type": "stream",
          "name": "stdout",
          "text": [
            "First few rows of the data:\n",
            "   flags                                          utterance category  \\\n",
            "0   BILC  I don't have an online account, what do I have...  ACCOUNT   \n",
            "1  BILQZ  can you tell me if i can regisger two accounts...  ACCOUNT   \n",
            "2   BPLC         I have no online account, open one, please  ACCOUNT   \n",
            "3  BIPLD  could you ask an agent how to open an account,...  ACCOUNT   \n",
            "4   BLQC               i want an online account, create one  ACCOUNT   \n",
            "\n",
            "           intent  \n",
            "0  create_account  \n",
            "1  create_account  \n",
            "2  create_account  \n",
            "3  create_account  \n",
            "4  create_account  \n",
            "\n",
            "Data information:\n",
            "<class 'pandas.core.frame.DataFrame'>\n",
            "RangeIndex: 21534 entries, 0 to 21533\n",
            "Data columns (total 4 columns):\n",
            " #   Column     Non-Null Count  Dtype \n",
            "---  ------     --------------  ----- \n",
            " 0   flags      21534 non-null  object\n",
            " 1   utterance  21534 non-null  object\n",
            " 2   category   21534 non-null  object\n",
            " 3   intent     21534 non-null  object\n",
            "dtypes: object(4)\n",
            "memory usage: 673.1+ KB\n",
            "None\n",
            "\n",
            "Summary statistics:\n",
            "        flags                            utterance category         intent\n",
            "count   21534                                21534    21534          21534\n",
            "unique    511                                21513       11             27\n",
            "top      BILC  where can I see your refund policy?  PAYMENT  payment_issue\n",
            "freq     2752                                    2     4636           4366\n",
            "\n",
            "Unique values in 'flags':\n",
            "['BILC' 'BILQZ' 'BPLC' 'BIPLD' 'BLQC' 'BSLC' 'BLZ' 'BPLQ' 'BIMLQW' 'BMLQ'\n",
            " 'BIL' 'BILQC' 'BMQ' 'BILCZ' 'BL' 'BPL' 'BSLCZ' 'BLC' 'BLQ' 'BSLQ' 'BML'\n",
            " 'BIC' 'BLQCZ' 'BPSLQWC' 'BI' 'BSLEQCZ' 'BILQ' 'BPLQD' 'BILEQC' 'BPML'\n",
            " 'BIPLEWCZ' 'BICZ' 'BC' 'BIQC' 'BLCZ' 'BPLEQC' 'BMLQZ' 'BLEQCZ' 'BZ'\n",
            " 'BIML' 'BIPL' 'BPLEC' 'BILZ' 'BSL' 'BQ' 'BILQCZ' 'BPLZ' 'BLQWC' 'BIQCZ'\n",
            " 'BIPMLQZ' 'B' 'BILWC' 'BIPLQWC' 'BPLQW' 'BILEWC' 'BPLW' 'BIMLQ' 'BLD'\n",
            " 'BIPLC' 'BIPMLWZ' 'BIPLEC' 'BIQ' 'BD' 'BIPLQ' 'BLEC' 'BIPLQCZ' 'BPLDW'\n",
            " 'BPLWZ' 'BIPMLW' 'BIPLWC' 'BIPLQC' 'BM' 'BIPLEWC' 'BIMLZ' 'BQCZ' 'BIPML'\n",
            " 'BIPLQW' 'BIPMLQ' 'BIQWC' 'BLQZ' 'BIPLQD' 'BILEQCZ' 'BMLZ' 'BPLQWZ'\n",
            " 'BSQC' 'BLEQC' 'BSLQC' 'BPLQWCZ' 'BIPLZ' 'BIMQ' 'BIPLDW' 'BPLQC' 'BILQD'\n",
            " 'BIMLQZ' 'BMLW' 'BLEW' 'BILQDZ' 'BS' 'BILQWCZ' 'BQC' 'BSLQZ' 'BSLEQC'\n",
            " 'BIEQCZ' 'BEQC' 'BPSLEQC' 'BILQW' 'BIPDZ' 'BLQW' 'BIPLW' 'BSC' 'BSLQWC'\n",
            " 'BPLQZ' 'BIPMLZ' 'BIPC' 'BIPMLQWZ' 'BPQW' 'BPMLQ' 'BILWZ' 'BIPQD'\n",
            " 'BMLQWZ' 'BIPMLQW' 'BILW' 'BIPQ' 'BIPLQZ' 'BCZ' 'BPMLWZ' 'BLQD' 'BPSLC'\n",
            " 'BIWCZ' 'BPLD' 'BIPLQDZ' 'BPSLQC' 'BPEC' 'BIEQC' 'BIMQZ' 'BLEQ' 'BIPLDWZ'\n",
            " 'BLW' 'BIPQC' 'BLDZ' 'BQZ' 'BILQWC' 'BPMLZ' 'BPLQWC' 'BPLWC' 'BMZ'\n",
            " 'BPEWC' 'BSLZ' 'BLEQZ' 'BPSLW' 'BIM' 'BIPLDZ' 'BPSLWCZ' 'BIPQZ' 'BP'\n",
            " 'BPLWCZ' 'BLWC' 'BPMLQWZ' 'BPMLQW' 'BPLQDW' 'BPQC' 'BPLEWC' 'BIPLWZ'\n",
            " 'BIPM' 'BIPLQWZ' 'BIQD' 'BIQDW' 'BSLQCZ' 'BSLWC' 'BIPLQDWZ' 'BSEQCZ'\n",
            " 'BEQ' 'BPQ' 'BSQ' 'BILDW' 'BIPQDZ' 'BIPLQDW' 'BPSLQW' 'BIPQWC' 'BIPLWCZ'\n",
            " 'BIZ' 'BIPLCZ' 'BPD' 'BILQDW' 'BQD' 'BPLDZ' 'BPLCZ' 'BIPQDW' 'BIPDW'\n",
            " 'BPSLWC' 'BPSLECZ' 'BILD' 'BIPD' 'BPDW' 'BSQZ' 'BIQZ' 'BLDWZ' 'BIQDZ'\n",
            " 'BQDZ' 'BILEC' 'BILECZ' 'BIPLEQC' 'BPLQCZ' 'BPQWCZ' 'BPLECZ' 'BPSLCZ'\n",
            " 'BQWC' 'BSCZ' 'BSLEWC' 'BPSLQ' 'BIWC' 'BILWCZ' 'BPLEWCZ' 'BLWCZ' 'BLDW'\n",
            " 'BILEQWC' 'BLQDW' 'BPLQDZ' 'BIPLECZ' 'BPQD' 'BIPQDWZ' 'BIPWC' 'BLQDZ'\n",
            " 'BIMLQD' 'BIPMLDW' 'BIPMLC' 'BMLD' 'BPMLQDW' 'BIMLC' 'BIPMD' 'BPS'\n",
            " 'BIPMQD' 'BIMLW' 'BIP' 'BMSLQZ' 'BIMLQC' 'BIMQC' 'BIMQCZ' 'BIPMLQDZ'\n",
            " 'BIPMLQDW' 'BIMZ' 'BMSQ' 'BIMQD' 'BIPMLQC' 'BIMLQCZ' 'BPMQDW' 'BIMLCZ'\n",
            " 'BMQZ' 'BPLQDWZ' 'BMLQD' 'BIPMLD' 'BMSL' 'BPMLDW' 'BPMLQD' 'BIPMLQD'\n",
            " 'BIMC' 'BIMLQDZ' 'BMSLZ' 'BIPWZ' 'BPLE' 'BIPW' 'BQW' 'BIPWCZ' 'BPSQC'\n",
            " 'BIPLQWCZ' 'BSLQW' 'BIPQW' 'BLQDWZ' 'BPQWC' 'BILQWZ' 'BPSLEC' 'BIW' 'BID'\n",
            " 'BPLEW' 'BIPEC' 'BPQDW' 'BPSLQCZ' 'BPSLEWC' 'BSLEC' 'BPCZ' 'BLQWCZ'\n",
            " 'BIPEWCZ' 'BPDZ' 'BDZ' 'BMQD' 'BMD' 'BIQDWZ' 'BPEW' 'BIPMQ' 'BIMQDW'\n",
            " 'BPSL' 'BPLEWZ' 'BILEWCZ' 'BSLWCZ' 'BIPZ' 'BPQDZ' 'BPSC' 'BDW' 'BQDWZ'\n",
            " 'BSLW' 'BPSEC' 'BQDW' 'BIMSLC' 'BISLQC' 'BISLCZ' 'BIPMSLQC' 'BIPMSLC'\n",
            " 'BIMSLQC' 'BISLQCZ' 'BMSLC' 'BIPSLQC' 'BMSC' 'BPMSLQC' 'BISLC' 'BIPSQCZ'\n",
            " 'BMSLQC' 'BIMSLQCZ' 'BIMSC' 'BMSLQ' 'BIMSLCZ' 'BPSWC' 'BISQC' 'BMSLQCZ'\n",
            " 'BISCZ' 'BIMSQC' 'BISC' 'BMSLCZ' 'BPMLD' 'BIPMLEC' 'BMSLQWC' 'BPMSLC'\n",
            " 'BISLQWC' 'BMLDW' 'BPMDW' 'BISQCZ' 'BPMQD' 'BIPMQDW' 'BIMSCZ' 'BMSCZ'\n",
            " 'BMDZ' 'BIMSQCZ' 'BIPMLQDWZ' 'BPMLDZ' 'BMLQDW' 'BPMZ' 'BMSQCZ' 'BPMSLQWC'\n",
            " 'BMLQDZ' 'BIPSLCZ' 'BIMW' 'BIMSLQWC' 'BMSQC' 'BIPSC' 'BIPMSLQWCZ'\n",
            " 'BISQWC' 'BPMSQCZ' 'BISLWC' 'BMS' 'BIMLWC' 'BPMLQDZ' 'BIPSLQWC'\n",
            " 'BIPMLECZ' 'BIPMLDWZ' 'BIPMSLWC' 'BISLQDZ' 'BPLEQW' 'BISL' 'BIMQW'\n",
            " 'BIPSLD' 'BPMSLQ' 'BIMSL' 'BIMSLQ' 'BMSLQD' 'BSLD' 'BIPMSLQDW' 'BPMSLQZ'\n",
            " 'BIPMSLDW' 'BIPMSLD' 'BIPLEQ' 'BIPDWZ' 'BISLQD' 'BISLZ' 'BIMSZ' 'BMSLD'\n",
            " 'BIMSLQDZ' 'BISLQ' 'BIPMQW' 'BIPSLQDW' 'BIMSLQZ' 'BPSLE' 'BIMSLQD'\n",
            " 'BPSLQWZ' 'BPSLQZ' 'BISZ' 'BIPSQDW' 'BPMLEQ' 'BIS' 'BPSQ' 'BIMS' 'BSDZ'\n",
            " 'BIPMLEQ' 'BILDZ' 'BPSLZ' 'BSLQD' 'BMLDZ' 'BIPSLQD' 'BIMSLZ' 'BIPMSD'\n",
            " 'BIPMSLW' 'BPMLQZ' 'BIMLD' 'BISLD' 'BISQZ' 'BPLEZ' 'BIPSLDW' 'BMSZ'\n",
            " 'BIMSD' 'BIPMSLQD' 'BIPSQD' 'BPMSL' 'BMSLWZ' 'BPSLEW' 'BILEQDZ' 'BPEQD'\n",
            " 'BIPEQD' 'BISQD' 'BIPLE' 'BED' 'BIPSLDZ' 'BEQD' 'BIPEQDZ' 'BIPEQ' 'BE'\n",
            " 'BPLEDW' 'BPSQW' 'BPSEQW' 'BIPEQDW' 'BSZ' 'BIDC' 'BIDCZ' 'BPSLEQW'\n",
            " 'BILQDC' 'BDC' 'BLQDCZ' 'BIPQDC' 'BILQDCZ' 'BPC' 'BILDCZ' 'BPQCZ' 'BLQDC'\n",
            " 'BPW' 'BQWCZ' 'BPSLWZ' 'BIPLQDWC' 'BIPMSLDZ' 'BMLQC' 'BIPMLDZ' 'BIPMQC'\n",
            " 'BPMQ' 'BIMLQDWZ' 'BMLC' 'BIPQWCZ' 'BMQCZ' 'BPMLQC' 'BIPMLWC' 'BMDW'\n",
            " 'BMLQCZ' 'BIPSDWZ' 'BMC' 'BPMLE' 'BMQC' 'BIMQDZ' 'BMLCZ' 'BPMLQWC'\n",
            " 'BPMEQC' 'BPMLEQZ' 'BLWZ' 'BIPSD' 'BPSW' 'BIPMDW' 'BPLDWZ' 'BMQDW' 'BMSW'\n",
            " 'BPMLDWZ' 'BILDWZ' 'BIMLDW' 'BPME' 'BW' 'BIMLDWZ' 'BSW' 'BPMSLW' 'BPMDZ'\n",
            " 'BPMD' 'BILQDWZ' 'BPSQZ' 'BPMLEW' 'BPMLW' 'BIMDW' 'BIMQDWZ' 'BIMQWZ'\n",
            " 'BMSQZ' 'BMW' 'BMSLW' 'BIMLWZ' 'BIPMQZ' 'BLEWC' 'BEWC' 'BLQWZ' 'BIPQCZ'\n",
            " 'BPECZ' 'BIPECZ']\n",
            "\n",
            "Unique values in 'utterance':\n",
            "[\"I don't have an online account, what do I have to do to register?\"\n",
            " 'can you tell me if i can regisger two accounts with a single email address?'\n",
            " 'I have no online account, open one, please' ...\n",
            " 'i want to set up my shipping address, what do i have to do?'\n",
            " \"I don't have a shipping address, can you set one up?\"\n",
            " 'i  wanna set up my shipping address']\n",
            "\n",
            "Unique values in 'category':\n",
            "['ACCOUNT' 'CANCELLATION_FEE' 'CONTACT' 'DELIVERY' 'FEEDBACK' 'INVOICES'\n",
            " 'NEWSLETTER' 'ORDER' 'PAYMENT' 'REFUNDS' 'SHIPPING']\n",
            "\n",
            "Unique values in 'intent':\n",
            "['create_account' 'delete_account' 'edit_account' 'recover_password'\n",
            " 'registration_problems' 'switch_account' 'check_cancellation_fee'\n",
            " 'contact_customer_service' 'contact_human_agent' 'delivery_options'\n",
            " 'delivery_period' 'complaint' 'review' 'check_invoices' 'get_invoice'\n",
            " 'newsletter_subscription' 'cancel_order' 'change_order' 'place_order'\n",
            " 'track_order' 'check_payment_methods' 'payment_issue'\n",
            " 'check_refund_policy' 'get_refund' 'track_refund'\n",
            " 'change_shipping_address' 'set_up_shipping_address']\n",
            "\n",
            "Value counts for 'flags':\n",
            "BILC      2752\n",
            "BILQC     2068\n",
            "BL        1253\n",
            "BIL       1042\n",
            "BLC        967\n",
            "          ... \n",
            "BPMLEQ       1\n",
            "BIEQCZ       1\n",
            "BPSQ         1\n",
            "BSDZ         1\n",
            "BIPECZ       1\n",
            "Name: flags, Length: 511, dtype: int64\n",
            "\n",
            "Value counts for 'utterance':\n",
            "where can I see your refund policy?                            2\n",
            "can u ask an agent how to obtain an invoice?                   2\n",
            "I want to know where I can get an invoice                      2\n",
            "can you ask an agent if i can request some bills?              2\n",
            "I want to check the cancellation fee                           2\n",
            "                                                              ..\n",
            "you aren't helping, what should I do to contact a person?      1\n",
            "I don't understand you and I want to talk to someone           1\n",
            "youre not helping, what do i have to do to talk to a human?    1\n",
            "you arent helping, can u talk to a human?                      1\n",
            "i  wanna set up my shipping address                            1\n",
            "Name: utterance, Length: 21513, dtype: int64\n",
            "\n",
            "Value counts for 'category':\n",
            "PAYMENT             4636\n",
            "ACCOUNT             4557\n",
            "CONTACT             3081\n",
            "INVOICES            2443\n",
            "ORDER               2256\n",
            "REFUNDS             1932\n",
            "FEEDBACK            1326\n",
            "DELIVERY             501\n",
            "CANCELLATION_FEE     360\n",
            "NEWSLETTER           236\n",
            "SHIPPING             206\n",
            "Name: category, dtype: int64\n",
            "\n",
            "Value counts for 'intent':\n",
            "payment_issue               4366\n",
            "create_account              2122\n",
            "contact_customer_service    2055\n",
            "get_invoice                 1430\n",
            "track_order                 1224\n",
            "get_refund                  1150\n",
            "contact_human_agent         1026\n",
            "check_invoices              1013\n",
            "recover_password             986\n",
            "change_order                 926\n",
            "delete_account               913\n",
            "complaint                    746\n",
            "review                       580\n",
            "check_refund_policy          479\n",
            "delivery_options             360\n",
            "check_cancellation_fee       360\n",
            "track_refund                 303\n",
            "switch_account               273\n",
            "check_payment_methods        270\n",
            "newsletter_subscription      236\n",
            "delivery_period              141\n",
            "edit_account                 133\n",
            "registration_problems        130\n",
            "change_shipping_address      110\n",
            "set_up_shipping_address       96\n",
            "place_order                   70\n",
            "cancel_order                  36\n",
            "Name: intent, dtype: int64\n",
            "\n",
            "Missing values:\n",
            "flags        0\n",
            "utterance    0\n",
            "category     0\n",
            "intent       0\n",
            "dtype: int64\n",
            "['ACCOUNT' 'CANCELLATION_FEE' 'CONTACT' 'DELIVERY' 'FEEDBACK' 'INVOICES'\n",
            " 'NEWSLETTER' 'ORDER' 'PAYMENT' 'REFUNDS' 'SHIPPING']\n",
            "['create_account' 'delete_account' 'edit_account' 'recover_password'\n",
            " 'registration_problems' 'switch_account' 'check_cancellation_fee'\n",
            " 'contact_customer_service' 'contact_human_agent' 'delivery_options'\n",
            " 'delivery_period' 'complaint' 'review' 'check_invoices' 'get_invoice'\n",
            " 'newsletter_subscription' 'cancel_order' 'change_order' 'place_order'\n",
            " 'track_order' 'check_payment_methods' 'payment_issue'\n",
            " 'check_refund_policy' 'get_refund' 'track_refund'\n",
            " 'change_shipping_address' 'set_up_shipping_address']\n"
          ]
        }
      ]
    },
    {
      "cell_type": "code",
      "source": [
        "import tensorflow as tf\n",
        "import tensorflow_hub as hub\n",
        "from sentence_transformers import SentenceTransformer\n",
        "\n",
        "module_url = \"https://tfhub.dev/google/universal-sentence-encoder/4\"\n",
        "model_use = hub.load(module_url)\n",
        "\n",
        "model_st1 = SentenceTransformer('all-mpnet-base-v2')\n",
        "model_st2 = SentenceTransformer('all-MiniLM-L6-v2')\n",
        "model_st3 = SentenceTransformer('all-distilroberta-v1')"
      ],
      "metadata": {
        "id": "mxm-d_pbw-4s"
      },
      "execution_count": 39,
      "outputs": []
    },
    {
      "cell_type": "code",
      "source": [
        "def embed(model, model_type, sentences):\n",
        "    if model_type == 'use':\n",
        "        embeddings = model(sentences)\n",
        "    elif model_type == 'sentence transformer':\n",
        "        embeddings = model.encode(sentences)\n",
        "\n",
        "    return embeddings"
      ],
      "metadata": {
        "id": "ghPqOLwZyQSO"
      },
      "execution_count": 40,
      "outputs": []
    },
    {
      "cell_type": "code",
      "source": [
        "print(uv_cat)"
      ],
      "metadata": {
        "colab": {
          "base_uri": "https://localhost:8080/"
        },
        "id": "y3SrxH5NJS19",
        "outputId": "12ab0abe-b855-4297-c325-c55c4fae96b9"
      },
      "execution_count": 41,
      "outputs": [
        {
          "output_type": "stream",
          "name": "stdout",
          "text": [
            "['ACCOUNT' 'CANCELLATION_FEE' 'CONTACT' 'DELIVERY' 'FEEDBACK' 'INVOICES'\n",
            " 'NEWSLETTER' 'ORDER' 'PAYMENT' 'REFUNDS' 'SHIPPING']\n"
          ]
        }
      ]
    },
    {
      "cell_type": "code",
      "source": [],
      "metadata": {
        "id": "7dPw7hp6JuvB"
      },
      "execution_count": null,
      "outputs": []
    },
    {
      "cell_type": "code",
      "source": [
        "all_intents = list(data['utterance'])\n",
        "len(all_intents)\n",
        "embeddings_use = embed(model_use, 'use', all_intents)\n",
        "embeddings_use.shape"
      ],
      "metadata": {
        "colab": {
          "base_uri": "https://localhost:8080/"
        },
        "id": "BbL7m5EEJ2Gf",
        "outputId": "c4f8198d-f266-4d4c-e743-ea9008e0df7d"
      },
      "execution_count": 42,
      "outputs": [
        {
          "output_type": "execute_result",
          "data": {
            "text/plain": [
              "TensorShape([21534, 512])"
            ]
          },
          "metadata": {},
          "execution_count": 42
        }
      ]
    },
    {
      "cell_type": "code",
      "source": [
        "\n",
        "\n",
        "embeddings_use0c = embed(model_use, 'use', uv_cat)\n",
        "\n",
        "embeddings_use0c.shape"
      ],
      "metadata": {
        "colab": {
          "base_uri": "https://localhost:8080/"
        },
        "id": "aDRKU-oXyrp7",
        "outputId": "e313ecaf-c7de-4a91-94d0-36c323253903"
      },
      "execution_count": 43,
      "outputs": [
        {
          "output_type": "execute_result",
          "data": {
            "text/plain": [
              "TensorShape([11, 512])"
            ]
          },
          "metadata": {},
          "execution_count": 43
        }
      ]
    },
    {
      "cell_type": "code",
      "source": [],
      "metadata": {
        "id": "hJOzG6SPLK4P"
      },
      "execution_count": null,
      "outputs": []
    },
    {
      "cell_type": "code",
      "source": [],
      "metadata": {
        "id": "OiWk9zVwP9SO"
      },
      "execution_count": null,
      "outputs": []
    },
    {
      "cell_type": "code",
      "source": [
        "embeddings_use0i = embed(model_use, 'use', uv_int)\n",
        "embeddings_use0i.shape"
      ],
      "metadata": {
        "colab": {
          "base_uri": "https://localhost:8080/"
        },
        "id": "80SvgZM7J27y",
        "outputId": "bbc86e38-443c-4f9c-ddd4-dedd266ef6da"
      },
      "execution_count": 44,
      "outputs": [
        {
          "output_type": "execute_result",
          "data": {
            "text/plain": [
              "TensorShape([27, 512])"
            ]
          },
          "metadata": {},
          "execution_count": 44
        }
      ]
    },
    {
      "cell_type": "code",
      "source": [
        "import numpy as np\n",
        "# Compute cosine similarity between each row in A and B\n",
        "\n",
        "\n",
        "cos_sim = np.dot(embeddings_use.numpy(), embeddings_use0c.numpy().T)\n",
        "\n",
        "# Find the closest row in B for each row in A\n",
        "closest_indices = np.argmax(cos_sim, axis=1)\n",
        "#closest_rows = embeddings_use0c[closest_indices]\n",
        "print(closest_indices)\n",
        "#print(\"Closest rows in B for each row in A:\")\n",
        "print(\"Closest rows in B for each row in A:\")\n",
        "\n",
        "#print(closest_rows)\n",
        "\n"
      ],
      "metadata": {
        "colab": {
          "base_uri": "https://localhost:8080/"
        },
        "id": "OzLkNUseP_Ft",
        "outputId": "c2adb49e-ff97-4c7c-91cb-4119edb9419d"
      },
      "execution_count": 54,
      "outputs": [
        {
          "output_type": "stream",
          "name": "stdout",
          "text": [
            "[ 0  0  0 ... 10 10 10]\n",
            "Closest rows in B for each row in A:\n"
          ]
        }
      ]
    },
    {
      "cell_type": "code",
      "source": [
        "closest_rows = uv_cat[closest_indices]\n",
        "print(closest_rows)"
      ],
      "metadata": {
        "colab": {
          "base_uri": "https://localhost:8080/"
        },
        "id": "bYeuSbIzV97W",
        "outputId": "374b8258-a0f5-4311-d3db-e5cdf573725c"
      },
      "execution_count": 46,
      "outputs": [
        {
          "output_type": "stream",
          "name": "stdout",
          "text": [
            "['ACCOUNT' 'ACCOUNT' 'ACCOUNT' ... 'SHIPPING' 'SHIPPING' 'SHIPPING']\n"
          ]
        }
      ]
    },
    {
      "cell_type": "code",
      "source": [],
      "metadata": {
        "id": "sb8dEbtFP-p2"
      },
      "execution_count": null,
      "outputs": []
    },
    {
      "cell_type": "code",
      "source": [
        "data['embcat'] = closest_rows\n",
        "print(data)"
      ],
      "metadata": {
        "colab": {
          "base_uri": "https://localhost:8080/"
        },
        "id": "lMPlaLPVYHND",
        "outputId": "24e426d8-bcc5-4df2-9878-4900ec6a230c"
      },
      "execution_count": 47,
      "outputs": [
        {
          "output_type": "stream",
          "name": "stdout",
          "text": [
            "       flags                                          utterance  category  \\\n",
            "0       BILC  I don't have an online account, what do I have...   ACCOUNT   \n",
            "1      BILQZ  can you tell me if i can regisger two accounts...   ACCOUNT   \n",
            "2       BPLC         I have no online account, open one, please   ACCOUNT   \n",
            "3      BIPLD  could you ask an agent how to open an account,...   ACCOUNT   \n",
            "4       BLQC               i want an online account, create one   ACCOUNT   \n",
            "...      ...                                                ...       ...   \n",
            "21529  BILQC  i have no shipping address, what do i have to ...  SHIPPING   \n",
            "21530   BLQC  I have no shipping address and I want to set o...  SHIPPING   \n",
            "21531   BIQC  i want to set up my shipping address, what do ...  SHIPPING   \n",
            "21532   BILC  I don't have a shipping address, can you set o...  SHIPPING   \n",
            "21533    BQZ                i  wanna set up my shipping address  SHIPPING   \n",
            "\n",
            "                        intent    embcat  \n",
            "0               create_account   ACCOUNT  \n",
            "1               create_account   ACCOUNT  \n",
            "2               create_account   ACCOUNT  \n",
            "3               create_account   ACCOUNT  \n",
            "4               create_account   ACCOUNT  \n",
            "...                        ...       ...  \n",
            "21529  set_up_shipping_address  SHIPPING  \n",
            "21530  set_up_shipping_address  SHIPPING  \n",
            "21531  set_up_shipping_address  SHIPPING  \n",
            "21532  set_up_shipping_address  SHIPPING  \n",
            "21533  set_up_shipping_address  SHIPPING  \n",
            "\n",
            "[21534 rows x 5 columns]\n"
          ]
        }
      ]
    },
    {
      "cell_type": "code",
      "source": [
        "\n",
        "num_diff_rows = data[data['category'] != data['embcat']]\n",
        "\n",
        "# Print the result\n",
        "print(\"Number of rows where values in 'Column1' and 'Column2' differ:\", num_diff_rows.shape[0])\n"
      ],
      "metadata": {
        "colab": {
          "base_uri": "https://localhost:8080/"
        },
        "id": "KlHeLQoAYvoC",
        "outputId": "5a94a4cb-5f19-475c-d57f-fb423d6c4884"
      },
      "execution_count": 52,
      "outputs": [
        {
          "output_type": "stream",
          "name": "stdout",
          "text": [
            "Number of rows where values in 'Column1' and 'Column2' differ: 4494\n"
          ]
        }
      ]
    },
    {
      "cell_type": "code",
      "source": [
        "print(num_diff_rows.head(10))"
      ],
      "metadata": {
        "colab": {
          "base_uri": "https://localhost:8080/"
        },
        "id": "J89OeJwrbQ65",
        "outputId": "ce286cf6-dea8-4ac3-e563-77fc15db5f7a"
      },
      "execution_count": 53,
      "outputs": [
        {
          "output_type": "stream",
          "name": "stdout",
          "text": [
            "      flags                                          utterance category  \\\n",
            "47    BILCZ           I want a profille, how can I create one?  ACCOUNT   \n",
            "135    BLCZ  I need an online accoung and I want to creaet one  ACCOUNT   \n",
            "272      BL                                    how to register  ACCOUNT   \n",
            "305   BILCZ  I want to create a online accountg, can you he...  ACCOUNT   \n",
            "321  BILQCZ      I want an online zccount, how can I open one?  ACCOUNT   \n",
            "570   BILCZ          I have no prfofile, what do I have to do?  ACCOUNT   \n",
            "577    BPLZ                    help me create a profile,please  ACCOUNT   \n",
            "660   BILCZ            I want a user avcount, can you help me?  ACCOUNT   \n",
            "788   BILCZ                  I need a profile,can you help me?  ACCOUNT   \n",
            "800   BILQZ                           can I create  a provile?  ACCOUNT   \n",
            "\n",
            "             intent            embcat  \n",
            "47   create_account             ORDER  \n",
            "135  create_account  CANCELLATION_FEE  \n",
            "272  create_account          FEEDBACK  \n",
            "305  create_account          FEEDBACK  \n",
            "321  create_account          FEEDBACK  \n",
            "570  create_account           PAYMENT  \n",
            "577  create_account             ORDER  \n",
            "660  create_account           CONTACT  \n",
            "788  create_account  CANCELLATION_FEE  \n",
            "800  create_account          FEEDBACK  \n"
          ]
        }
      ]
    },
    {
      "cell_type": "code",
      "source": [
        "embeddings_st1 = embed(model_st1, 'sentence transformer', all_intents)\n",
        "embeddings_st1.shape"
      ],
      "metadata": {
        "colab": {
          "base_uri": "https://localhost:8080/"
        },
        "id": "NbX88Nf-1r5m",
        "outputId": "fa990ea2-0fd3-493b-b8d7-bcf016676935"
      },
      "execution_count": 49,
      "outputs": [
        {
          "output_type": "execute_result",
          "data": {
            "text/plain": [
              "(21534, 768)"
            ]
          },
          "metadata": {},
          "execution_count": 49
        }
      ]
    },
    {
      "cell_type": "code",
      "source": [
        "embeddings_st2 = embed(model_st2, 'sentence transformer', all_intents)\n",
        "embeddings_st2.shape"
      ],
      "metadata": {
        "colab": {
          "base_uri": "https://localhost:8080/"
        },
        "id": "1HKP4ya53ufS",
        "outputId": "504699f7-8023-43fb-d938-5da6144280c5"
      },
      "execution_count": 50,
      "outputs": [
        {
          "output_type": "execute_result",
          "data": {
            "text/plain": [
              "(21534, 384)"
            ]
          },
          "metadata": {},
          "execution_count": 50
        }
      ]
    },
    {
      "cell_type": "code",
      "source": [
        "embeddings_st3 = embed(model_st3, 'sentence transformer', all_intents)\n",
        "embeddings_st3.shape\n",
        "\n",
        "\n",
        "\n",
        "\n"
      ],
      "metadata": {
        "colab": {
          "base_uri": "https://localhost:8080/"
        },
        "id": "8J2KklTQ4Myf",
        "outputId": "24142fc7-055c-4e8f-c3c9-445d4e6a43ce"
      },
      "execution_count": null,
      "outputs": [
        {
          "output_type": "execute_result",
          "data": {
            "text/plain": [
              "(21534, 768)"
            ]
          },
          "metadata": {},
          "execution_count": 8
        }
      ]
    }
  ]
}